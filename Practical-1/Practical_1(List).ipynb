{
  "nbformat": 4,
  "nbformat_minor": 0,
  "metadata": {
    "kernelspec": {
      "display_name": "Python 3",
      "language": "python",
      "name": "python3"
    },
    "language_info": {
      "codemirror_mode": {
        "name": "ipython",
        "version": 3
      },
      "file_extension": ".py",
      "mimetype": "text/x-python",
      "name": "python",
      "nbconvert_exporter": "python",
      "pygments_lexer": "ipython3",
      "version": "3.8.2"
    },
    "colab": {
      "name": "Practical_1(List).ipynb",
      "provenance": [],
      "collapsed_sections": []
    }
  },
  "cells": [
    {
      "cell_type": "markdown",
      "metadata": {
        "id": "LsqAJcAaxhsl"
      },
      "source": [
        "# List"
      ]
    },
    {
      "cell_type": "code",
      "metadata": {
        "colab": {
          "base_uri": "https://localhost:8080/"
        },
        "id": "vU32HkAbxhsu",
        "outputId": "0845bb35-026d-44cd-bf94-7283b1b3117c"
      },
      "source": [
        "names = ['HP', 'Yash', 'Sachin', 'Rutvik', 'Brijesh']\n",
        "print(names)"
      ],
      "execution_count": 1,
      "outputs": [
        {
          "output_type": "stream",
          "text": [
            "['HP', 'Yash', 'Sachin', 'Rutvik', 'Brijesh']\n"
          ],
          "name": "stdout"
        }
      ]
    },
    {
      "cell_type": "code",
      "metadata": {
        "id": "WZNvlnpYxhsv"
      },
      "source": [
        "names[0] = 'Jay'"
      ],
      "execution_count": 2,
      "outputs": []
    },
    {
      "cell_type": "code",
      "metadata": {
        "id": "sdxxtDMUxhsw",
        "outputId": "b211de37-3f3a-4fa4-b6bd-864c46f9fdd7"
      },
      "source": [
        "print(names[0:3])\n",
        "print(names[2:])"
      ],
      "execution_count": null,
      "outputs": [
        {
          "output_type": "stream",
          "text": [
            "['Henil', 'Yash', 'Sachin']\n",
            "['Sachin', 'Rutvik', 'Brijesh']\n"
          ],
          "name": "stdout"
        }
      ]
    },
    {
      "cell_type": "code",
      "metadata": {
        "colab": {
          "base_uri": "https://localhost:8080/"
        },
        "id": "fb_Ptoutxhsw",
        "outputId": "2c98dc5b-c0c8-4a52-f7a7-6cff8521e68b"
      },
      "source": [
        "li = [5]*20\n",
        "print(li)"
      ],
      "execution_count": 3,
      "outputs": [
        {
          "output_type": "stream",
          "text": [
            "[5, 5, 5, 5, 5, 5, 5, 5, 5, 5, 5, 5, 5, 5, 5, 5, 5, 5, 5, 5]\n"
          ],
          "name": "stdout"
        }
      ]
    },
    {
      "cell_type": "code",
      "metadata": {
        "id": "b8DKwNR6xhsx",
        "outputId": "41cb3fbe-e86d-4606-ec88-37dd255190ba"
      },
      "source": [
        "names = ['Kira', 'Edward', 'Alphonse', 'Armin', 'Saitama']\n",
        "\n",
        "names.append('Genos')\n",
        "names.insert(1, 'Levi')\n",
        "print(names)"
      ],
      "execution_count": null,
      "outputs": [
        {
          "output_type": "stream",
          "text": [
            "['Kira', 'Levi', 'Edward', 'Alphonse', 'Armin', 'Saitama', 'Genos']\n"
          ],
          "name": "stdout"
        }
      ]
    },
    {
      "cell_type": "code",
      "metadata": {
        "id": "FShN3QwWxhsx",
        "outputId": "63f7cfb4-ef4d-4c40-be9c-3db7e337dec3"
      },
      "source": [
        "print(\"length: \", len(names))"
      ],
      "execution_count": null,
      "outputs": [
        {
          "output_type": "stream",
          "text": [
            "length:  7\n"
          ],
          "name": "stdout"
        }
      ]
    },
    {
      "cell_type": "code",
      "metadata": {
        "id": "4-dIsoKexhsy",
        "outputId": "b702e599-7482-473a-c15d-4830846b81e6"
      },
      "source": [
        "names.remove(\"Armin\")\n",
        "print(names)"
      ],
      "execution_count": null,
      "outputs": [
        {
          "output_type": "stream",
          "text": [
            "['Kira', 'Levi', 'Edward', 'Alphonse', 'Saitama', 'Genos']\n"
          ],
          "name": "stdout"
        }
      ]
    },
    {
      "cell_type": "code",
      "metadata": {
        "id": "b7SuNEOnxhsy",
        "outputId": "228fc9a3-5f23-4b34-c220-e4eb407cf5c7"
      },
      "source": [
        "names.pop(4)\n",
        "print(names)"
      ],
      "execution_count": null,
      "outputs": [
        {
          "output_type": "stream",
          "text": [
            "['Kira', 'Levi', 'Edward', 'Alphonse', 'Genos']\n"
          ],
          "name": "stdout"
        }
      ]
    },
    {
      "cell_type": "code",
      "metadata": {
        "id": "d3ra271Vxhsz",
        "outputId": "c1eabf8e-0508-4a19-eaec-d92352a3d3c2"
      },
      "source": [
        "del names[1]\n",
        "print(names)"
      ],
      "execution_count": null,
      "outputs": [
        {
          "output_type": "stream",
          "text": [
            "['Kira', 'Edward', 'Alphonse', 'Genos']\n"
          ],
          "name": "stdout"
        }
      ]
    },
    {
      "cell_type": "code",
      "metadata": {
        "id": "230GLptoxhsz",
        "outputId": "00db5d0c-239d-4651-94f6-83dddbf868e5"
      },
      "source": [
        "mynames = names.copy()\n",
        "print(mynames)"
      ],
      "execution_count": null,
      "outputs": [
        {
          "output_type": "stream",
          "text": [
            "['Kira', 'Edward', 'Alphonse', 'Genos']\n"
          ],
          "name": "stdout"
        }
      ]
    },
    {
      "cell_type": "code",
      "metadata": {
        "id": "khQiznMzxhsz",
        "outputId": "28ed8bfd-5fee-4317-c576-602b0c9471d4"
      },
      "source": [
        "digits = [5, 2, 1, 7, 3]\n",
        "add = names + digits\n",
        "print(add)"
      ],
      "execution_count": null,
      "outputs": [
        {
          "output_type": "stream",
          "text": [
            "['Kira', 'Edward', 'Alphonse', 'Genos', 5, 2, 1, 7, 3]\n"
          ],
          "name": "stdout"
        }
      ]
    },
    {
      "cell_type": "code",
      "metadata": {
        "id": "rmq3q1yBxhs0",
        "outputId": "c4af598f-b914-4f0c-ebca-5dbbea09fa4b"
      },
      "source": [
        "digits.reverse()\n",
        "print(digits)"
      ],
      "execution_count": null,
      "outputs": [
        {
          "output_type": "stream",
          "text": [
            "[3, 7, 1, 2, 5]\n"
          ],
          "name": "stdout"
        }
      ]
    },
    {
      "cell_type": "code",
      "metadata": {
        "id": "bzPQ6CvMxhs0",
        "outputId": "5c313175-90a8-4bd0-f825-295e5055fdb8"
      },
      "source": [
        "digits.sort()\n",
        "print(digits)"
      ],
      "execution_count": null,
      "outputs": [
        {
          "output_type": "stream",
          "text": [
            "[1, 2, 3, 5, 7]\n"
          ],
          "name": "stdout"
        }
      ]
    }
  ]
}